{
 "cells": [
  {
   "cell_type": "code",
   "execution_count": 73,
   "metadata": {},
   "outputs": [],
   "source": [
    "%load_ext lab_black"
   ]
  },
  {
   "cell_type": "code",
   "execution_count": 38,
   "metadata": {},
   "outputs": [],
   "source": [
    "import pandas as pd\n",
    "import numpy as np\n",
    "import datetime as dt\n",
    "import matplotlib.pyplot as plt"
   ]
  },
  {
   "cell_type": "markdown",
   "metadata": {},
   "source": [
    "# Reflect Tables into SQLAlchemy ORM"
   ]
  },
  {
   "cell_type": "code",
   "execution_count": 39,
   "metadata": {},
   "outputs": [],
   "source": [
    "# Python SQL toolkit and Object Relational Mapper\n",
    "import sqlalchemy\n",
    "from sqlalchemy import Column, Integer, String, Float\n",
    "from sqlalchemy.types import Date\n",
    "from sqlalchemy.ext.automap import automap_base\n",
    "from sqlalchemy.orm import Session\n",
    "from sqlalchemy import create_engine, inspect, func\n",
    "from pprint import pprint"
   ]
  },
  {
   "cell_type": "code",
   "execution_count": 40,
   "metadata": {},
   "outputs": [],
   "source": [
    "engine = create_engine(\"sqlite:///Resources/hawaii.sqlite\")"
   ]
  },
  {
   "cell_type": "code",
   "execution_count": 41,
   "metadata": {},
   "outputs": [],
   "source": [
    "# Reflect an existing database into a new model\n",
    "Base = automap_base()\n",
    "# reflect the tables\n",
    "Base.prepare(engine, reflect=True)"
   ]
  },
  {
   "cell_type": "code",
   "execution_count": 42,
   "metadata": {},
   "outputs": [
    {
     "data": {
      "text/plain": [
       "['measurement', 'station']"
      ]
     },
     "execution_count": 42,
     "metadata": {},
     "output_type": "execute_result"
    }
   ],
   "source": [
    "# We can view all of the classes that automap found\n",
    "Base.classes.keys()"
   ]
  },
  {
   "cell_type": "code",
   "execution_count": 43,
   "metadata": {},
   "outputs": [],
   "source": [
    "# Save references to each table\n",
    "Measurement = Base.classes.measurement\n",
    "Station = Base.classes.station"
   ]
  },
  {
   "cell_type": "code",
   "execution_count": 44,
   "metadata": {},
   "outputs": [],
   "source": [
    "# Create our session (link) from Python to the DB\n",
    "session = Session(engine)"
   ]
  },
  {
   "cell_type": "markdown",
   "metadata": {},
   "source": [
    "# Exploratory Climate Analysis\n",
    "\n",
    "* Design a query to retrieve the last 12 months of precipitation data and plot the results\n",
    "\n",
    "* Calculate the date 1 year ago from the last data point in the database\n",
    "\n",
    "* Perform a query to retrieve the data and precipitation scores\n",
    "\n",
    "* Save the query results as a Pandas DataFrame and set the index to the date column\n",
    "\n",
    "# Sort the dataframe by date\n",
    "\n",
    "# Use Pandas Plotting with Matplotlib to plot the data"
   ]
  },
  {
   "cell_type": "code",
   "execution_count": 45,
   "metadata": {},
   "outputs": [
    {
     "name": "stdout",
     "output_type": "stream",
     "text": [
      "measurement:\n",
      "['id', 'station', 'date', 'prcp', 'tobs']\n",
      "station:\n",
      "['id', 'station', 'name', 'latitude', 'longitude', 'elevation']\n"
     ]
    }
   ],
   "source": [
    "# Check table names and columns\n",
    "inspector = inspect(engine)\n",
    "table_names = inspector.get_table_names()\n",
    "for table in table_names:\n",
    "    print(table + \":\")\n",
    "    columns = inspector.get_columns(table)\n",
    "    column_names = [colunm[\"name\"] for colunm in columns]\n",
    "    pprint(column_names)"
   ]
  },
  {
   "cell_type": "code",
   "execution_count": 46,
   "metadata": {},
   "outputs": [],
   "source": [
    "# Calculate the max date value from the dataset\n",
    "max_date = session.query(Measurement.date).order_by(Measurement.date.desc()).first()\n",
    "max_date = max_date[0]\n",
    "# Calculate the date an year ago from the max_date\n",
    "last_year = dt.datetime.strptime(max_date, \"%Y-%m-%d\") - dt.timedelta(days=365)\n",
    "\n",
    "# Calculate precipitation values for last 12 months\n",
    "precipitaion_data = (\n",
    "    session.query(Measurement.date, Measurement.prcp)\n",
    "    .filter(Measurement.date >= last_year)\n",
    "    .all()\n",
    ")\n",
    "# print(precipitation_date)"
   ]
  },
  {
   "cell_type": "code",
   "execution_count": 47,
   "metadata": {},
   "outputs": [],
   "source": [
    "# Save the query results as a Pandas DataFrame and set the index to the date column\n",
    "df_precipitation = pd.DataFrame(precipitaion_data, columns=[\"Date\", \"Precipitation\"])\n",
    "df_precipitation.set_index([\"Date\"], inplace=True)"
   ]
  },
  {
   "cell_type": "code",
   "execution_count": 48,
   "metadata": {},
   "outputs": [
    {
     "data": {
      "text/html": [
       "<div>\n",
       "<style scoped>\n",
       "    .dataframe tbody tr th:only-of-type {\n",
       "        vertical-align: middle;\n",
       "    }\n",
       "\n",
       "    .dataframe tbody tr th {\n",
       "        vertical-align: top;\n",
       "    }\n",
       "\n",
       "    .dataframe thead th {\n",
       "        text-align: right;\n",
       "    }\n",
       "</style>\n",
       "<table border=\"1\" class=\"dataframe\">\n",
       "  <thead>\n",
       "    <tr style=\"text-align: right;\">\n",
       "      <th></th>\n",
       "      <th>Precipitation</th>\n",
       "    </tr>\n",
       "    <tr>\n",
       "      <th>Date</th>\n",
       "      <th></th>\n",
       "    </tr>\n",
       "  </thead>\n",
       "  <tbody>\n",
       "    <tr>\n",
       "      <td>2016-08-24</td>\n",
       "      <td>0.08</td>\n",
       "    </tr>\n",
       "    <tr>\n",
       "      <td>2016-08-24</td>\n",
       "      <td>NaN</td>\n",
       "    </tr>\n",
       "    <tr>\n",
       "      <td>2016-08-24</td>\n",
       "      <td>2.15</td>\n",
       "    </tr>\n",
       "    <tr>\n",
       "      <td>2016-08-24</td>\n",
       "      <td>2.28</td>\n",
       "    </tr>\n",
       "    <tr>\n",
       "      <td>2016-08-24</td>\n",
       "      <td>2.15</td>\n",
       "    </tr>\n",
       "  </tbody>\n",
       "</table>\n",
       "</div>"
      ],
      "text/plain": [
       "            Precipitation\n",
       "Date                     \n",
       "2016-08-24           0.08\n",
       "2016-08-24            NaN\n",
       "2016-08-24           2.15\n",
       "2016-08-24           2.28\n",
       "2016-08-24           2.15"
      ]
     },
     "execution_count": 48,
     "metadata": {},
     "output_type": "execute_result"
    }
   ],
   "source": [
    "# Sort the dataframe by dates\n",
    "df_precipitation = df_precipitation.sort_values(by=[\"Date\"], ascending=True)\n",
    "df_precipitation.head()"
   ]
  },
  {
   "cell_type": "markdown",
   "metadata": {},
   "source": [
    "## Plot the graph for 12 months precipitaion data"
   ]
  },
  {
   "cell_type": "code",
   "execution_count": 49,
   "metadata": {},
   "outputs": [
    {
     "data": {
      "image/png": "[encoded data removed]",
      "text/plain": [
       "<Figure size 432x288 with 1 Axes>"
      ]
     },
     "metadata": {
      "needs_background": "light"
     },
     "output_type": "display_data"
    }
   ],
   "source": [
    "# Plot the dataframe as a horizontal bar chart and save the figure as Precipitation.png\n",
    "df_precipitation.plot(title=\"Precipitation Analysis for 12 months in days\")\n",
    "plt.xlabel(\"Date\")\n",
    "plt.ylabel(\"Precipitation(inches)\")\n",
    "plt.legend(loc=\"upper center\")\n",
    "plt.xticks(rotation=45)\n",
    "plt.savefig(\"Images/Precipitation_12months.png\")\n",
    "plt.show()"
   ]
  },
  {
   "cell_type": "code",
   "execution_count": null,
   "metadata": {},
   "outputs": [],
   "source": []
  },
  {
   "cell_type": "markdown",
   "metadata": {},
   "source": [
    "## Plot the graph for 12 months total precipitaion. \n",
    "#### The above data is for precipitation from all weather station for each date.The graph below shows the total amount of the rain for each date from all the weather stations."
   ]
  },
  {
   "cell_type": "code",
   "execution_count": 50,
   "metadata": {},
   "outputs": [],
   "source": [
    "# Calculate total precipitation values for last 12 months by calculating sum of prcp values for each day\n",
    "total_precipitaion_12_months = (\n",
    "    session.query(Measurement.date, func.sum(Measurement.prcp))\n",
    "    .filter(Measurement.date >= last_year)\n",
    "    .group_by(Measurement.date)\n",
    "    .all()\n",
    ")"
   ]
  },
  {
   "cell_type": "code",
   "execution_count": 51,
   "metadata": {},
   "outputs": [],
   "source": [
    "# Save the query results as a Pandas DataFrame and set the index to the date column\n",
    "\n",
    "df_total_precipitation = pd.DataFrame(\n",
    "    total_precipitaion_12_months, columns=[\"Date\", \"Total Precipitation\"]\n",
    ")\n",
    "df_total_precipitation.set_index([\"Date\"], inplace=True)"
   ]
  },
  {
   "cell_type": "code",
   "execution_count": 52,
   "metadata": {},
   "outputs": [
    {
     "data": {
      "text/html": [
       "<div>\n",
       "<style scoped>\n",
       "    .dataframe tbody tr th:only-of-type {\n",
       "        vertical-align: middle;\n",
       "    }\n",
       "\n",
       "    .dataframe tbody tr th {\n",
       "        vertical-align: top;\n",
       "    }\n",
       "\n",
       "    .dataframe thead th {\n",
       "        text-align: right;\n",
       "    }\n",
       "</style>\n",
       "<table border=\"1\" class=\"dataframe\">\n",
       "  <thead>\n",
       "    <tr style=\"text-align: right;\">\n",
       "      <th></th>\n",
       "      <th>Total Precipitation</th>\n",
       "    </tr>\n",
       "    <tr>\n",
       "      <th>Date</th>\n",
       "      <th></th>\n",
       "    </tr>\n",
       "  </thead>\n",
       "  <tbody>\n",
       "    <tr>\n",
       "      <td>2016-08-24</td>\n",
       "      <td>9.33</td>\n",
       "    </tr>\n",
       "    <tr>\n",
       "      <td>2016-08-25</td>\n",
       "      <td>0.54</td>\n",
       "    </tr>\n",
       "    <tr>\n",
       "      <td>2016-08-26</td>\n",
       "      <td>0.10</td>\n",
       "    </tr>\n",
       "    <tr>\n",
       "      <td>2016-08-27</td>\n",
       "      <td>0.32</td>\n",
       "    </tr>\n",
       "    <tr>\n",
       "      <td>2016-08-28</td>\n",
       "      <td>3.10</td>\n",
       "    </tr>\n",
       "  </tbody>\n",
       "</table>\n",
       "</div>"
      ],
      "text/plain": [
       "            Total Precipitation\n",
       "Date                           \n",
       "2016-08-24                 9.33\n",
       "2016-08-25                 0.54\n",
       "2016-08-26                 0.10\n",
       "2016-08-27                 0.32\n",
       "2016-08-28                 3.10"
      ]
     },
     "execution_count": 52,
     "metadata": {},
     "output_type": "execute_result"
    }
   ],
   "source": [
    "# Sort the dataframe by dates\n",
    "df_total_precipitation = df_total_precipitation.sort_values(by=[\"Date\"], ascending=True)\n",
    "df_total_precipitation.head()"
   ]
  },
  {
   "cell_type": "code",
   "execution_count": 53,
   "metadata": {},
   "outputs": [
    {
     "data": {
      "image/png": "[encoded data removed]",
      "text/plain": [
       "<Figure size 432x288 with 1 Axes>"
      ]
     },
     "metadata": {
      "needs_background": "light"
     },
     "output_type": "display_data"
    }
   ],
   "source": [
    "# Define labels\n",
    "plt.title(\" Onerall Precipitation Analysis for 12 Months\")\n",
    "plt.xlabel(\"Month\")\n",
    "plt.ylabel(\"Precipitation in inches\")\n",
    "\n",
    "# Define months for x-ticks labels\n",
    "months = [\n",
    "    \"Aug\",\n",
    "    \"Sep\",\n",
    "    \"Oct\",\n",
    "    \"Nov\",\n",
    "    \"Dec\",\n",
    "    \"Jan\",\n",
    "    \"Feb\",\n",
    "    \"Mar\",\n",
    "    \"Apr\",\n",
    "    \"May\",\n",
    "    \"Jun\",\n",
    "    \"Jul\",\n",
    "]\n",
    "\n",
    "# Define X and Y values\n",
    "y = df_total_precipitation[\"Total Precipitation\"].tolist()\n",
    "x = np.arange(0, len(df_total_precipitation.index.tolist()), 1)\n",
    "# Define X-tick labels (months) and their positioning\n",
    "month_total = len(y)\n",
    "month_step_xticks = int(month_total / 12)\n",
    "plt.ylim = max(y) + 1\n",
    "tick_locations = [x + 55 for x in range(1, month_total, month_step_xticks)]\n",
    "# Define plot\n",
    "plt.bar(x, y, width=30, color=\"blue\", alpha=0.5, align=\"edge\")\n",
    "plt.xticks(tick_locations, months)\n",
    "plt.show()"
   ]
  },
  {
   "cell_type": "code",
   "execution_count": 54,
   "metadata": {},
   "outputs": [
    {
     "data": {
      "text/html": [
       "<div>\n",
       "<style scoped>\n",
       "    .dataframe tbody tr th:only-of-type {\n",
       "        vertical-align: middle;\n",
       "    }\n",
       "\n",
       "    .dataframe tbody tr th {\n",
       "        vertical-align: top;\n",
       "    }\n",
       "\n",
       "    .dataframe thead th {\n",
       "        text-align: right;\n",
       "    }\n",
       "</style>\n",
       "<table border=\"1\" class=\"dataframe\">\n",
       "  <thead>\n",
       "    <tr style=\"text-align: right;\">\n",
       "      <th></th>\n",
       "      <th>Precipitation</th>\n",
       "    </tr>\n",
       "  </thead>\n",
       "  <tbody>\n",
       "    <tr>\n",
       "      <td>count</td>\n",
       "      <td>2015.000000</td>\n",
       "    </tr>\n",
       "    <tr>\n",
       "      <td>mean</td>\n",
       "      <td>0.176462</td>\n",
       "    </tr>\n",
       "    <tr>\n",
       "      <td>std</td>\n",
       "      <td>0.460288</td>\n",
       "    </tr>\n",
       "    <tr>\n",
       "      <td>min</td>\n",
       "      <td>0.000000</td>\n",
       "    </tr>\n",
       "    <tr>\n",
       "      <td>25%</td>\n",
       "      <td>0.000000</td>\n",
       "    </tr>\n",
       "    <tr>\n",
       "      <td>50%</td>\n",
       "      <td>0.020000</td>\n",
       "    </tr>\n",
       "    <tr>\n",
       "      <td>75%</td>\n",
       "      <td>0.130000</td>\n",
       "    </tr>\n",
       "    <tr>\n",
       "      <td>max</td>\n",
       "      <td>6.700000</td>\n",
       "    </tr>\n",
       "  </tbody>\n",
       "</table>\n",
       "</div>"
      ],
      "text/plain": [
       "       Precipitation\n",
       "count    2015.000000\n",
       "mean        0.176462\n",
       "std         0.460288\n",
       "min         0.000000\n",
       "25%         0.000000\n",
       "50%         0.020000\n",
       "75%         0.130000\n",
       "max         6.700000"
      ]
     },
     "execution_count": 54,
     "metadata": {},
     "output_type": "execute_result"
    }
   ],
   "source": [
    "# Use Pandas to calcualte the summary statistics for the precipitation data\n",
    "df_precipitation.describe()"
   ]
  },
  {
   "cell_type": "markdown",
   "metadata": {},
   "source": [
    "## Design a query to show how many stations are available in this dataset?\n"
   ]
  },
  {
   "cell_type": "code",
   "execution_count": 55,
   "metadata": {},
   "outputs": [
    {
     "name": "stdout",
     "output_type": "stream",
     "text": [
      "There are total 9 stations.\n"
     ]
    }
   ],
   "source": [
    "# Design a query to show how many stations are available in this dataset?\n",
    "stations_count = (\n",
    "    session.query(Station, Measurement).group_by(Measurement.station).count()\n",
    ")\n",
    "print(f\"There are total {stations_count} stations.\")"
   ]
  },
  {
   "cell_type": "code",
   "execution_count": 56,
   "metadata": {},
   "outputs": [
    {
     "name": "stdout",
     "output_type": "stream",
     "text": [
      "The most active station is:  USC00519281\n"
     ]
    }
   ],
   "source": [
    "# What are the most active stations? (i.e. what stations have the most rows)?\n",
    "# List the stations and the counts in descending order.\n",
    "active_stations = (\n",
    "    session.query(Measurement.station, func.count(Measurement.station))\n",
    "    .group_by(Measurement.station)\n",
    "    .order_by(func.count(Measurement.station).desc())\n",
    "    .all()\n",
    ")\n",
    "\n",
    "print(\"The most active station is: \", active_stations[0][0])"
   ]
  },
  {
   "cell_type": "code",
   "execution_count": 57,
   "metadata": {},
   "outputs": [
    {
     "name": "stdout",
     "output_type": "stream",
     "text": [
      "List of most active Stations with the count in descending order is:\n",
      "USC00519281  with 2772 observation\n",
      "USC00519397  with 2724 observation\n",
      "USC00513117  with 2709 observation\n",
      "USC00519523  with 2669 observation\n",
      "USC00516128  with 2612 observation\n",
      "USC00514830  with 2202 observation\n",
      "USC00511918  with 1979 observation\n",
      "USC00517948  with 1372 observation\n",
      "USC00518838  with 511 observation\n"
     ]
    }
   ],
   "source": [
    "active_stations_list = [st for st, count in active_stations]\n",
    "# active_stations_list\n",
    "print(\"List of most active Stations with the count in descending order is:\")\n",
    "\n",
    "for st, count in active_stations:\n",
    "    print(st, \" with\", count, \"observation\")"
   ]
  },
  {
   "cell_type": "code",
   "execution_count": 58,
   "metadata": {},
   "outputs": [
    {
     "name": "stdout",
     "output_type": "stream",
     "text": [
      "The lowest temperature recorded, highest temperature recorded, and average temperature most active station are: \n",
      " [(54.0, 85.0, 71.66378066378067)]\n"
     ]
    }
   ],
   "source": [
    "# Using the station id from the previous query, calculate the lowest temperature recorded,\n",
    "# highest temperature recorded, and average temperature most active station?\n",
    "\n",
    "cmd = session.query(\n",
    "    func.min(Measurement.tobs), func.max(Measurement.tobs), func.avg(Measurement.tobs),\n",
    ").filter(Measurement.station == active_stations[0][0])\n",
    "temp = cmd.all()\n",
    "temp\n",
    "# station_id_max_temp = temp[0][2]\n",
    "print(\n",
    "    \"The lowest temperature recorded, highest temperature recorded, and average temperature most active station are:\",\n",
    "    \"\\n\",\n",
    "    temp,\n",
    ")"
   ]
  },
  {
   "cell_type": "code",
   "execution_count": 59,
   "metadata": {},
   "outputs": [],
   "source": [
    "# Choose the station with the highest number of temperature observations.\n",
    "# Query the last 12 months of temperature observation data for this station and plot the results as a histogram\n",
    "\n",
    "cmd = (\n",
    "    session.query(Measurement.date, Measurement.station, Measurement.tobs)\n",
    "    .filter(Measurement.date >= last_year)\n",
    "    .filter(Measurement.station == active_stations[0][0])\n",
    ")\n",
    "result = cmd.all()"
   ]
  },
  {
   "cell_type": "code",
   "execution_count": 60,
   "metadata": {},
   "outputs": [
    {
     "data": {
      "text/html": [
       "<div>\n",
       "<style scoped>\n",
       "    .dataframe tbody tr th:only-of-type {\n",
       "        vertical-align: middle;\n",
       "    }\n",
       "\n",
       "    .dataframe tbody tr th {\n",
       "        vertical-align: top;\n",
       "    }\n",
       "\n",
       "    .dataframe thead th {\n",
       "        text-align: right;\n",
       "    }\n",
       "</style>\n",
       "<table border=\"1\" class=\"dataframe\">\n",
       "  <thead>\n",
       "    <tr style=\"text-align: right;\">\n",
       "      <th></th>\n",
       "      <th>Date</th>\n",
       "      <th>Station ID</th>\n",
       "      <th>Temperature_Recorded</th>\n",
       "    </tr>\n",
       "  </thead>\n",
       "  <tbody>\n",
       "    <tr>\n",
       "      <td>350</td>\n",
       "      <td>2017-08-18</td>\n",
       "      <td>USC00519281</td>\n",
       "      <td>79.0</td>\n",
       "    </tr>\n",
       "    <tr>\n",
       "      <td>349</td>\n",
       "      <td>2017-08-17</td>\n",
       "      <td>USC00519281</td>\n",
       "      <td>76.0</td>\n",
       "    </tr>\n",
       "    <tr>\n",
       "      <td>348</td>\n",
       "      <td>2017-08-16</td>\n",
       "      <td>USC00519281</td>\n",
       "      <td>76.0</td>\n",
       "    </tr>\n",
       "    <tr>\n",
       "      <td>347</td>\n",
       "      <td>2017-08-15</td>\n",
       "      <td>USC00519281</td>\n",
       "      <td>77.0</td>\n",
       "    </tr>\n",
       "    <tr>\n",
       "      <td>346</td>\n",
       "      <td>2017-08-14</td>\n",
       "      <td>USC00519281</td>\n",
       "      <td>77.0</td>\n",
       "    </tr>\n",
       "  </tbody>\n",
       "</table>\n",
       "</div>"
      ],
      "text/plain": [
       "           Date   Station ID  Temperature_Recorded\n",
       "350  2017-08-18  USC00519281                  79.0\n",
       "349  2017-08-17  USC00519281                  76.0\n",
       "348  2017-08-16  USC00519281                  76.0\n",
       "347  2017-08-15  USC00519281                  77.0\n",
       "346  2017-08-14  USC00519281                  77.0"
      ]
     },
     "execution_count": 60,
     "metadata": {},
     "output_type": "execute_result"
    }
   ],
   "source": [
    "df_temperature = pd.DataFrame(\n",
    "    result, columns=[\"Date\", \"Station ID\", \"Temperature_Recorded\"]\n",
    ")\n",
    "df_temperature = df_temperature.sort_values(by=[\"Date\"], ascending=False)\n",
    "df_temperature.head()"
   ]
  },
  {
   "cell_type": "code",
   "execution_count": 61,
   "metadata": {},
   "outputs": [
    {
     "data": {
      "image/png": "[encoded data removed]",
      "text/plain": [
       "<Figure size 432x288 with 1 Axes>"
      ]
     },
     "metadata": {
      "needs_background": "light"
     },
     "output_type": "display_data"
    }
   ],
   "source": [
    "df_temperature.plot.hist(\n",
    "    by=\"Temperature_Recorded\",\n",
    "    bins=12,\n",
    "    title=f\"Temperature Frequency for {active_stations[0][0]} from {last_year} till {max_date}\",\n",
    ")\n",
    "plt.xlabel(\"Temperature (F)\")\n",
    "plt.ylabel(\"Frequency of temperature\")\n",
    "plt.legend()\n",
    "plt.savefig(\"Images/temperature.png\")\n",
    "plt.show()"
   ]
  },
  {
   "cell_type": "code",
   "execution_count": 62,
   "metadata": {},
   "outputs": [
    {
     "name": "stdout",
     "output_type": "stream",
     "text": [
      "[(62.0, 69.57142857142857, 74.0)]\n"
     ]
    }
   ],
   "source": [
    "# This function called `calc_temps` will accept start date and end date in the format '%Y-%m-%d'\n",
    "# and return the minimum, average, and maximum temperatures for that range of dates\n",
    "def calc_temps(start_date, end_date):\n",
    "    \"\"\"TMIN, TAVG, and TMAX for a list of dates.\n",
    "    \n",
    "    Args:\n",
    "        start_date (string): A date string in the format %Y-%m-%d\n",
    "        end_date (string): A date string in the format %Y-%m-%d\n",
    "        \n",
    "    Returns:\n",
    "        TMIN, TAVE, and TMAX\n",
    "    \"\"\"\n",
    "\n",
    "    return (\n",
    "        session.query(\n",
    "            func.min(Measurement.tobs),\n",
    "            func.avg(Measurement.tobs),\n",
    "            func.max(Measurement.tobs),\n",
    "        )\n",
    "        .filter(Measurement.date >= start_date)\n",
    "        .filter(Measurement.date <= end_date)\n",
    "        .all()\n",
    "    )\n",
    "\n",
    "\n",
    "# function usage example\n",
    "print(calc_temps(\"2012-02-28\", \"2012-03-05\"))"
   ]
  },
  {
   "cell_type": "markdown",
   "metadata": {},
   "source": [
    "#### Trip dates (Start date: \"2017-08-16\" and End date: \"2017-08-23)"
   ]
  },
  {
   "cell_type": "code",
   "execution_count": 63,
   "metadata": {},
   "outputs": [
    {
     "data": {
      "text/plain": [
       "[(71.0, 78.73333333333333, 85.0)]"
      ]
     },
     "execution_count": 63,
     "metadata": {},
     "output_type": "execute_result"
    }
   ],
   "source": [
    "# Use your previous function `calc_temps` to calculate the tmin, tavg, and tmax\n",
    "# for your trip using the previous year's data for those same dates.\n",
    "trip_temps = calc_temps(\"2017-08-16\", \"2017-08-23\")\n",
    "trip_temps"
   ]
  },
  {
   "cell_type": "code",
   "execution_count": 64,
   "metadata": {},
   "outputs": [
    {
     "data": {
      "text/html": [
       "<div>\n",
       "<style scoped>\n",
       "    .dataframe tbody tr th:only-of-type {\n",
       "        vertical-align: middle;\n",
       "    }\n",
       "\n",
       "    .dataframe tbody tr th {\n",
       "        vertical-align: top;\n",
       "    }\n",
       "\n",
       "    .dataframe thead th {\n",
       "        text-align: right;\n",
       "    }\n",
       "</style>\n",
       "<table border=\"1\" class=\"dataframe\">\n",
       "  <thead>\n",
       "    <tr style=\"text-align: right;\">\n",
       "      <th></th>\n",
       "      <th>tmin</th>\n",
       "      <th>tavg</th>\n",
       "      <th>tmax</th>\n",
       "    </tr>\n",
       "  </thead>\n",
       "  <tbody>\n",
       "    <tr>\n",
       "      <td>0</td>\n",
       "      <td>71.0</td>\n",
       "      <td>78.733333</td>\n",
       "      <td>85.0</td>\n",
       "    </tr>\n",
       "  </tbody>\n",
       "</table>\n",
       "</div>"
      ],
      "text/plain": [
       "   tmin       tavg  tmax\n",
       "0  71.0  78.733333  85.0"
      ]
     },
     "execution_count": 64,
     "metadata": {},
     "output_type": "execute_result"
    }
   ],
   "source": [
    "df_trip_temp = pd.DataFrame(trip_temps, columns=[\"tmin\", \"tavg\", \"tmax\"])\n",
    "df_trip_temp"
   ]
  },
  {
   "cell_type": "code",
   "execution_count": 65,
   "metadata": {},
   "outputs": [
    {
     "data": {
      "image/png": "[encoded data removed]",
      "text/plain": [
       "<Figure size 288x432 with 1 Axes>"
      ]
     },
     "metadata": {
      "needs_background": "light"
     },
     "output_type": "display_data"
    }
   ],
   "source": [
    "# Plot the results from your previous query as a bar chart.\n",
    "# Use \"Trip Avg Temp\" as your Title\n",
    "# Use the average temperature for the y value\n",
    "# Use the peak-to-peak (tmax-tmin) value as the y error bar (yerr)\n",
    "df_trip_temp.plot.bar(\n",
    "    y=\"tavg\",\n",
    "    yerr=(df_trip_temp[\"tmax\"] - df_trip_temp[\"tmin\"]),\n",
    "    title=\"Trip Avg Temp\",\n",
    "    color=\"green\",\n",
    "    alpha=0.5,\n",
    "    figsize=(4, 6),\n",
    ")\n",
    "plt.xticks(np.arange(1, 1.0))\n",
    "plt.ylabel(\"Temp (F)\")\n",
    "plt.savefig(\"Images/TripAvgTemp.png\")\n",
    "plt.show()"
   ]
  },
  {
   "cell_type": "code",
   "execution_count": 66,
   "metadata": {},
   "outputs": [
    {
     "name": "stdout",
     "output_type": "stream",
     "text": [
      "[(147.81000000000006, 'USC00516128', 'MANOA LYON ARBO 785.2, HI US', 21.3331, -157.8025, 152.4), (70.03000000000003, 'USC00519281', 'WAIHEE 837.5, HI US', 21.45167, -157.84888999999998, 32.9), (48.510000000000026, 'USC00513117', 'KANEOHE 838.1, HI US', 21.4234, -157.8015, 14.6), (38.01, 'USC00519523', 'WAIMANALO EXPERIMENTAL FARM, HI US', 21.33556, -157.71139, 19.5), (33.239999999999995, 'USC00514830', 'KUALOA RANCH HEADQUARTERS 886.9, HI US', 21.5213, -157.8374, 7.0), (16.089999999999986, 'USC00519397', 'WAIKIKI 717.2, HI US', 21.2716, -157.8168, 3.0), (4.59, 'USC00517948', 'PEARL CITY, HI US', 21.3934, -157.9751, 11.9)]\n"
     ]
    }
   ],
   "source": [
    "# Calculate the total amount of rainfall per weather station for your trip dates using the previous year's matching dates.\n",
    "# Sort this in descending order by precipitation amount and list the station, name, latitude, longitude, and elevation\n",
    "def precipitation(start_date, end_date):\n",
    "\n",
    "    \"\"\"Precipitation information for a list of dates\n",
    "    \n",
    "    Args:\n",
    "        start_date (string): A date string in the format %Y-%m-%d\n",
    "        end_date (string): A date string in the format %Y-%m-%d\n",
    "        \n",
    "    Returns:\n",
    "        A list of tuples containing precipitation amount, station, name, latitude, longitude, and elevation in descending order.\n",
    "    \"\"\"\n",
    "    return (\n",
    "        session.query(\n",
    "            func.sum(Measurement.prcp),\n",
    "            Measurement.station,\n",
    "            Station.name,\n",
    "            Station.latitude,\n",
    "            Station.longitude,\n",
    "            Station.elevation,\n",
    "        )\n",
    "        .filter(Measurement.station == Station.station)\n",
    "        .filter(Measurement.date >= start_date)\n",
    "        .filter(Measurement.date <= end_date)\n",
    "        .group_by(Measurement.station)\n",
    "        .order_by(func.sum(Measurement.prcp).desc())\n",
    "        .all()\n",
    "    )\n",
    "\n",
    "\n",
    "rainfall = precipitation(\"2016-08-23\", \"2017-08-23\")\n",
    "print(rainfall)"
   ]
  },
  {
   "cell_type": "code",
   "execution_count": 67,
   "metadata": {},
   "outputs": [
    {
     "data": {
      "text/html": [
       "<div>\n",
       "<style scoped>\n",
       "    .dataframe tbody tr th:only-of-type {\n",
       "        vertical-align: middle;\n",
       "    }\n",
       "\n",
       "    .dataframe tbody tr th {\n",
       "        vertical-align: top;\n",
       "    }\n",
       "\n",
       "    .dataframe thead th {\n",
       "        text-align: right;\n",
       "    }\n",
       "</style>\n",
       "<table border=\"1\" class=\"dataframe\">\n",
       "  <thead>\n",
       "    <tr style=\"text-align: right;\">\n",
       "      <th></th>\n",
       "      <th>Prcp</th>\n",
       "      <th>Station ID</th>\n",
       "      <th>Station Name</th>\n",
       "      <th>Latitude</th>\n",
       "      <th>Longitude</th>\n",
       "      <th>Elevation</th>\n",
       "    </tr>\n",
       "  </thead>\n",
       "  <tbody>\n",
       "    <tr>\n",
       "      <td>0</td>\n",
       "      <td>147.81</td>\n",
       "      <td>USC00516128</td>\n",
       "      <td>MANOA LYON ARBO 785.2, HI US</td>\n",
       "      <td>21.33310</td>\n",
       "      <td>-157.80250</td>\n",
       "      <td>152.4</td>\n",
       "    </tr>\n",
       "    <tr>\n",
       "      <td>1</td>\n",
       "      <td>70.03</td>\n",
       "      <td>USC00519281</td>\n",
       "      <td>WAIHEE 837.5, HI US</td>\n",
       "      <td>21.45167</td>\n",
       "      <td>-157.84889</td>\n",
       "      <td>32.9</td>\n",
       "    </tr>\n",
       "    <tr>\n",
       "      <td>2</td>\n",
       "      <td>48.51</td>\n",
       "      <td>USC00513117</td>\n",
       "      <td>KANEOHE 838.1, HI US</td>\n",
       "      <td>21.42340</td>\n",
       "      <td>-157.80150</td>\n",
       "      <td>14.6</td>\n",
       "    </tr>\n",
       "    <tr>\n",
       "      <td>3</td>\n",
       "      <td>38.01</td>\n",
       "      <td>USC00519523</td>\n",
       "      <td>WAIMANALO EXPERIMENTAL FARM, HI US</td>\n",
       "      <td>21.33556</td>\n",
       "      <td>-157.71139</td>\n",
       "      <td>19.5</td>\n",
       "    </tr>\n",
       "    <tr>\n",
       "      <td>4</td>\n",
       "      <td>33.24</td>\n",
       "      <td>USC00514830</td>\n",
       "      <td>KUALOA RANCH HEADQUARTERS 886.9, HI US</td>\n",
       "      <td>21.52130</td>\n",
       "      <td>-157.83740</td>\n",
       "      <td>7.0</td>\n",
       "    </tr>\n",
       "    <tr>\n",
       "      <td>5</td>\n",
       "      <td>16.09</td>\n",
       "      <td>USC00519397</td>\n",
       "      <td>WAIKIKI 717.2, HI US</td>\n",
       "      <td>21.27160</td>\n",
       "      <td>-157.81680</td>\n",
       "      <td>3.0</td>\n",
       "    </tr>\n",
       "    <tr>\n",
       "      <td>6</td>\n",
       "      <td>4.59</td>\n",
       "      <td>USC00517948</td>\n",
       "      <td>PEARL CITY, HI US</td>\n",
       "      <td>21.39340</td>\n",
       "      <td>-157.97510</td>\n",
       "      <td>11.9</td>\n",
       "    </tr>\n",
       "  </tbody>\n",
       "</table>\n",
       "</div>"
      ],
      "text/plain": [
       "     Prcp   Station ID                            Station Name  Latitude  \\\n",
       "0  147.81  USC00516128            MANOA LYON ARBO 785.2, HI US  21.33310   \n",
       "1   70.03  USC00519281                     WAIHEE 837.5, HI US  21.45167   \n",
       "2   48.51  USC00513117                    KANEOHE 838.1, HI US  21.42340   \n",
       "3   38.01  USC00519523      WAIMANALO EXPERIMENTAL FARM, HI US  21.33556   \n",
       "4   33.24  USC00514830  KUALOA RANCH HEADQUARTERS 886.9, HI US  21.52130   \n",
       "5   16.09  USC00519397                    WAIKIKI 717.2, HI US  21.27160   \n",
       "6    4.59  USC00517948                       PEARL CITY, HI US  21.39340   \n",
       "\n",
       "   Longitude  Elevation  \n",
       "0 -157.80250      152.4  \n",
       "1 -157.84889       32.9  \n",
       "2 -157.80150       14.6  \n",
       "3 -157.71139       19.5  \n",
       "4 -157.83740        7.0  \n",
       "5 -157.81680        3.0  \n",
       "6 -157.97510       11.9  "
      ]
     },
     "execution_count": 67,
     "metadata": {},
     "output_type": "execute_result"
    }
   ],
   "source": [
    "# Covert the data to DataFrame\n",
    "df_rainfall = pd.DataFrame(\n",
    "    rainfall,\n",
    "    columns=[\n",
    "        \"Prcp\",\n",
    "        \"Station ID\",\n",
    "        \"Station Name\",\n",
    "        \"Latitude\",\n",
    "        \"Longitude\",\n",
    "        \"Elevation\",\n",
    "    ],\n",
    ")\n",
    "df_rainfall"
   ]
  },
  {
   "cell_type": "markdown",
   "metadata": {},
   "source": [
    "## Optional Challenge Assignment"
   ]
  },
  {
   "cell_type": "code",
   "execution_count": 68,
   "metadata": {},
   "outputs": [
    {
     "data": {
      "text/plain": [
       "[(62.0, 69.15384615384616, 77.0)]"
      ]
     },
     "execution_count": 68,
     "metadata": {},
     "output_type": "execute_result"
    }
   ],
   "source": [
    "# Create a query that will calculate the daily normals\n",
    "# (i.e. the averages for tmin, tmax, and tavg for all historic data matching a specific month and day)\n",
    "\n",
    "\n",
    "def daily_normals(date):\n",
    "    \"\"\"Daily Normals.\n",
    "    \n",
    "    Args:\n",
    "        date (str): A date string in the format '%m-%d'\n",
    "        \n",
    "    Returns:\n",
    "        A list of tuples containing the daily normals, tmin, tavg, and tmax\n",
    "    \n",
    "    \"\"\"\n",
    "\n",
    "    sel = [\n",
    "        func.min(Measurement.tobs),\n",
    "        func.avg(Measurement.tobs),\n",
    "        func.max(Measurement.tobs),\n",
    "    ]\n",
    "    return (\n",
    "        session.query(*sel)\n",
    "        .filter(func.strftime(\"%m-%d\", Measurement.date) == date)\n",
    "        .all()\n",
    "    )\n",
    "\n",
    "\n",
    "daily_normals(\"01-01\")"
   ]
  },
  {
   "cell_type": "code",
   "execution_count": 69,
   "metadata": {},
   "outputs": [],
   "source": [
    "################################################\n",
    "#### Trip dates: \"2017-08-16\", \"2017-08-23\" ####\n",
    "################################################"
   ]
  },
  {
   "cell_type": "code",
   "execution_count": 70,
   "metadata": {},
   "outputs": [
    {
     "name": "stdout",
     "output_type": "stream",
     "text": [
      "Aggregate daily normals for the date range:2017-08-16 and 2017-08-23 are:\n"
     ]
    },
    {
     "data": {
      "text/plain": [
       "[(69.0, 76.08, 83.0),\n",
       " (69.0, 76.125, 83.0),\n",
       " (70.0, 76.92307692307692, 84.0),\n",
       " (69.0, 75.94642857142857, 85.0),\n",
       " (68.0, 76.45283018867924, 82.0),\n",
       " (67.0, 76.4, 83.0),\n",
       " (69.0, 76.47169811320755, 84.0),\n",
       " (67.0, 76.6923076923077, 87.0)]"
      ]
     },
     "execution_count": 70,
     "metadata": {},
     "output_type": "execute_result"
    }
   ],
   "source": [
    "# calculate the daily normals for your trip\n",
    "# push each tuple of calculations into a list called `normals`\n",
    "\n",
    "# Set the start and end date of the trip\n",
    "trip_start_date = \"2017-08-16\"\n",
    "trip_end_date = \"2017-08-23\"\n",
    "\n",
    "# Use the start and end date to create a range of dates\n",
    "date_range = (\n",
    "    session.query(Measurement.date)\n",
    "    .filter(Measurement.date >= trip_start_date)\n",
    "    .filter(Measurement.date <= trip_end_date)\n",
    "    .group_by(Measurement.date)\n",
    "    .all()\n",
    ")\n",
    "\n",
    "# List comprehension to calculate the trip dates\n",
    "trip_dates = [x[0] for x in date_range]\n",
    "\n",
    "# Stip off the year and save a list of %m-%d strings\n",
    "trip_dates_stripped = [x[5:] for x in trip_dates]\n",
    "trip_dates_stripped[0]\n",
    "# Calculate the start month day and month\n",
    "start_date_mm_dd = trip_dates_stripped[0]\n",
    "end_date_mm_dd = trip_dates_stripped[-1]\n",
    "# Loop through the list of %m-%d strings and calculate the normals for each date\n",
    "daily_normals_list = [\n",
    "    session.query(\n",
    "        func.min(Measurement.tobs),\n",
    "        func.avg(Measurement.tobs),\n",
    "        func.max(Measurement.tobs),\n",
    "    )\n",
    "    .filter(func.strftime(\"%m-%d\", Measurement.date) >= start_date_mm_dd)\n",
    "    .filter(func.strftime(\"%m-%d\", Measurement.date) <= end_date_mm_dd)\n",
    "    .group_by(func.strftime(\"%m-%d\", Measurement.date))\n",
    "    .all()\n",
    "]\n",
    "daily_normals = daily_normals_list[0]\n",
    "print(\n",
    "    f\"Aggregate daily normals for the date range:{trip_start_date} and {trip_end_date} are:\"\n",
    ")\n",
    "daily_normals"
   ]
  },
  {
   "cell_type": "code",
   "execution_count": 71,
   "metadata": {},
   "outputs": [
    {
     "data": {
      "text/html": [
       "<div>\n",
       "<style scoped>\n",
       "    .dataframe tbody tr th:only-of-type {\n",
       "        vertical-align: middle;\n",
       "    }\n",
       "\n",
       "    .dataframe tbody tr th {\n",
       "        vertical-align: top;\n",
       "    }\n",
       "\n",
       "    .dataframe thead th {\n",
       "        text-align: right;\n",
       "    }\n",
       "</style>\n",
       "<table border=\"1\" class=\"dataframe\">\n",
       "  <thead>\n",
       "    <tr style=\"text-align: right;\">\n",
       "      <th></th>\n",
       "      <th>tmin</th>\n",
       "      <th>tavg</th>\n",
       "      <th>tmax</th>\n",
       "    </tr>\n",
       "    <tr>\n",
       "      <th>Date</th>\n",
       "      <th></th>\n",
       "      <th></th>\n",
       "      <th></th>\n",
       "    </tr>\n",
       "  </thead>\n",
       "  <tbody>\n",
       "    <tr>\n",
       "      <td>2017-08-16</td>\n",
       "      <td>69.0</td>\n",
       "      <td>76.080000</td>\n",
       "      <td>83.0</td>\n",
       "    </tr>\n",
       "    <tr>\n",
       "      <td>2017-08-17</td>\n",
       "      <td>69.0</td>\n",
       "      <td>76.125000</td>\n",
       "      <td>83.0</td>\n",
       "    </tr>\n",
       "    <tr>\n",
       "      <td>2017-08-18</td>\n",
       "      <td>70.0</td>\n",
       "      <td>76.923077</td>\n",
       "      <td>84.0</td>\n",
       "    </tr>\n",
       "    <tr>\n",
       "      <td>2017-08-19</td>\n",
       "      <td>69.0</td>\n",
       "      <td>75.946429</td>\n",
       "      <td>85.0</td>\n",
       "    </tr>\n",
       "    <tr>\n",
       "      <td>2017-08-20</td>\n",
       "      <td>68.0</td>\n",
       "      <td>76.452830</td>\n",
       "      <td>82.0</td>\n",
       "    </tr>\n",
       "    <tr>\n",
       "      <td>2017-08-21</td>\n",
       "      <td>67.0</td>\n",
       "      <td>76.400000</td>\n",
       "      <td>83.0</td>\n",
       "    </tr>\n",
       "    <tr>\n",
       "      <td>2017-08-22</td>\n",
       "      <td>69.0</td>\n",
       "      <td>76.471698</td>\n",
       "      <td>84.0</td>\n",
       "    </tr>\n",
       "    <tr>\n",
       "      <td>2017-08-23</td>\n",
       "      <td>67.0</td>\n",
       "      <td>76.692308</td>\n",
       "      <td>87.0</td>\n",
       "    </tr>\n",
       "  </tbody>\n",
       "</table>\n",
       "</div>"
      ],
      "text/plain": [
       "            tmin       tavg  tmax\n",
       "Date                             \n",
       "2017-08-16  69.0  76.080000  83.0\n",
       "2017-08-17  69.0  76.125000  83.0\n",
       "2017-08-18  70.0  76.923077  84.0\n",
       "2017-08-19  69.0  75.946429  85.0\n",
       "2017-08-20  68.0  76.452830  82.0\n",
       "2017-08-21  67.0  76.400000  83.0\n",
       "2017-08-22  69.0  76.471698  84.0\n",
       "2017-08-23  67.0  76.692308  87.0"
      ]
     },
     "execution_count": 71,
     "metadata": {},
     "output_type": "execute_result"
    }
   ],
   "source": [
    "# Load the previous query results into a Pandas DataFrame and add the `trip_dates` range as the `date` index\n",
    "df_daily_normals = pd.DataFrame(daily_normals, columns=[\"tmin\", \"tavg\", \"tmax\"])\n",
    "# Add dates to theDataFrame\n",
    "df_daily_normals[\"Date\"] = trip_dates\n",
    "# Change datatype to  datetime object\n",
    "df_daily_normals[\"Date\"] = pd.to_datetime(df_daily_normals[\"Date\"], format=\"%Y-%m-%d\")\n",
    "\n",
    "# Set index to date\n",
    "df_daily_normals.set_index(\"Date\", inplace=True)\n",
    "\n",
    "df_daily_normals"
   ]
  },
  {
   "cell_type": "code",
   "execution_count": 72,
   "metadata": {},
   "outputs": [
    {
     "data": {
      "image/png": "[encoded data removed]",
      "text/plain": [
       "<Figure size 432x288 with 1 Axes>"
      ]
     },
     "metadata": {
      "needs_background": "light"
     },
     "output_type": "display_data"
    }
   ],
   "source": [
    "# Plot the daily normals as an area plot with `stacked=False`\n",
    "df_daily_normals.plot(\n",
    "    kind=\"area\",\n",
    "    alpha=0.4,\n",
    "    stacked=False,\n",
    "    x_compat=True,\n",
    "    title=\"Daily Normals for the trip duration\",\n",
    ")\n",
    "plt.ylabel(\"Temperature (F)\")\n",
    "plt.savefig(\"Images/daily-normals.png\")"
   ]
  }
 ],
 "metadata": {
  "kernel_info": {
   "name": "python3"
  },
  "kernelspec": {
   "display_name": "sqlalchemy_hw",
   "language": "python",
   "name": "sqlalchemy_hw"
  },
  "language_info": {
   "codemirror_mode": {
    "name": "ipython",
    "version": 3
   },
   "file_extension": ".py",
   "mimetype": "text/x-python",
   "name": "python",
   "nbconvert_exporter": "python",
   "pygments_lexer": "ipython3",
   "version": "3.7.4"
  },
  "nteract": {
   "version": "0.12.3"
  },
  "varInspector": {
   "cols": {
    "lenName": 16,
    "lenType": 16,
    "lenVar": 40
   },
   "kernels_config": {
    "python": {
     "delete_cmd_postfix": "",
     "delete_cmd_prefix": "del ",
     "library": "var_list.py",
     "varRefreshCmd": "print(var_dic_list())"
    },
    "r": {
     "delete_cmd_postfix": ") ",
     "delete_cmd_prefix": "rm(",
     "library": "var_list.r",
     "varRefreshCmd": "cat(var_dic_list()) "
    }
   },
   "types_to_exclude": [
    "module",
    "function",
    "builtin_function_or_method",
    "instance",
    "_Feature"
   ],
   "window_display": false
  }
 },
 "nbformat": 4,
 "nbformat_minor": 4
}
